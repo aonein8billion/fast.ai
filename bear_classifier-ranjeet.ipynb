{
 "cells": [
  {
   "cell_type": "code",
   "execution_count": 1,
   "id": "fb8eee79",
   "metadata": {},
   "outputs": [
    {
     "name": "stdout",
     "output_type": "stream",
     "text": [
      "Collecting voila\n",
      "  Downloading voila-0.5.8-py3-none-any.whl.metadata (9.5 kB)\n",
      "Requirement already satisfied: jupyter-client<9,>=7.4.4 in /opt/anaconda3/envs/fastai/lib/python3.12/site-packages (from voila) (7.4.9)\n",
      "Requirement already satisfied: jupyter-core>=4.11.0 in /opt/anaconda3/envs/fastai/lib/python3.12/site-packages (from voila) (5.7.2)\n",
      "Requirement already satisfied: jupyter-server<3,>=1.18 in /opt/anaconda3/envs/fastai/lib/python3.12/site-packages (from voila) (2.14.1)\n",
      "Requirement already satisfied: jupyterlab-server<3,>=2.3.0 in /opt/anaconda3/envs/fastai/lib/python3.12/site-packages (from voila) (2.27.3)\n",
      "Requirement already satisfied: nbclient>=0.4.0 in /opt/anaconda3/envs/fastai/lib/python3.12/site-packages (from voila) (0.8.0)\n",
      "Requirement already satisfied: nbconvert<8,>=6.4.5 in /opt/anaconda3/envs/fastai/lib/python3.12/site-packages (from voila) (7.16.4)\n",
      "Requirement already satisfied: traitlets<6,>=5.0.3 in /opt/anaconda3/envs/fastai/lib/python3.12/site-packages (from voila) (5.14.3)\n",
      "Collecting websockets>=9.0 (from voila)\n",
      "  Downloading websockets-14.1-cp312-cp312-macosx_11_0_arm64.whl.metadata (6.7 kB)\n",
      "Requirement already satisfied: entrypoints in /opt/anaconda3/envs/fastai/lib/python3.12/site-packages (from jupyter-client<9,>=7.4.4->voila) (0.4)\n",
      "Requirement already satisfied: nest-asyncio>=1.5.4 in /opt/anaconda3/envs/fastai/lib/python3.12/site-packages (from jupyter-client<9,>=7.4.4->voila) (1.6.0)\n",
      "Requirement already satisfied: python-dateutil>=2.8.2 in /opt/anaconda3/envs/fastai/lib/python3.12/site-packages (from jupyter-client<9,>=7.4.4->voila) (2.9.0.post0)\n",
      "Requirement already satisfied: pyzmq>=23.0 in /opt/anaconda3/envs/fastai/lib/python3.12/site-packages (from jupyter-client<9,>=7.4.4->voila) (25.1.2)\n",
      "Requirement already satisfied: tornado>=6.2 in /opt/anaconda3/envs/fastai/lib/python3.12/site-packages (from jupyter-client<9,>=7.4.4->voila) (6.4.1)\n",
      "Requirement already satisfied: platformdirs>=2.5 in /opt/anaconda3/envs/fastai/lib/python3.12/site-packages (from jupyter-core>=4.11.0->voila) (3.10.0)\n",
      "Requirement already satisfied: anyio>=3.1.0 in /opt/anaconda3/envs/fastai/lib/python3.12/site-packages (from jupyter-server<3,>=1.18->voila) (4.6.2)\n",
      "Requirement already satisfied: argon2-cffi>=21.1 in /opt/anaconda3/envs/fastai/lib/python3.12/site-packages (from jupyter-server<3,>=1.18->voila) (21.3.0)\n",
      "Requirement already satisfied: jinja2>=3.0.3 in /opt/anaconda3/envs/fastai/lib/python3.12/site-packages (from jupyter-server<3,>=1.18->voila) (3.1.4)\n",
      "Requirement already satisfied: jupyter-events>=0.9.0 in /opt/anaconda3/envs/fastai/lib/python3.12/site-packages (from jupyter-server<3,>=1.18->voila) (0.10.0)\n",
      "Requirement already satisfied: jupyter-server-terminals>=0.4.4 in /opt/anaconda3/envs/fastai/lib/python3.12/site-packages (from jupyter-server<3,>=1.18->voila) (0.4.4)\n",
      "Requirement already satisfied: nbformat>=5.3.0 in /opt/anaconda3/envs/fastai/lib/python3.12/site-packages (from jupyter-server<3,>=1.18->voila) (5.10.4)\n",
      "Requirement already satisfied: overrides>=5.0 in /opt/anaconda3/envs/fastai/lib/python3.12/site-packages (from jupyter-server<3,>=1.18->voila) (7.4.0)\n",
      "Requirement already satisfied: packaging>=22.0 in /opt/anaconda3/envs/fastai/lib/python3.12/site-packages (from jupyter-server<3,>=1.18->voila) (24.1)\n",
      "Requirement already satisfied: prometheus-client>=0.9 in /opt/anaconda3/envs/fastai/lib/python3.12/site-packages (from jupyter-server<3,>=1.18->voila) (0.21.0)\n",
      "Requirement already satisfied: send2trash>=1.8.2 in /opt/anaconda3/envs/fastai/lib/python3.12/site-packages (from jupyter-server<3,>=1.18->voila) (1.8.2)\n",
      "Requirement already satisfied: terminado>=0.8.3 in /opt/anaconda3/envs/fastai/lib/python3.12/site-packages (from jupyter-server<3,>=1.18->voila) (0.17.1)\n",
      "Requirement already satisfied: websocket-client>=1.7 in /opt/anaconda3/envs/fastai/lib/python3.12/site-packages (from jupyter-server<3,>=1.18->voila) (1.8.0)\n",
      "Requirement already satisfied: babel>=2.10 in /opt/anaconda3/envs/fastai/lib/python3.12/site-packages (from jupyterlab-server<3,>=2.3.0->voila) (2.11.0)\n",
      "Requirement already satisfied: json5>=0.9.0 in /opt/anaconda3/envs/fastai/lib/python3.12/site-packages (from jupyterlab-server<3,>=2.3.0->voila) (0.9.25)\n",
      "Requirement already satisfied: jsonschema>=4.18.0 in /opt/anaconda3/envs/fastai/lib/python3.12/site-packages (from jupyterlab-server<3,>=2.3.0->voila) (4.23.0)\n",
      "Requirement already satisfied: requests>=2.31 in /opt/anaconda3/envs/fastai/lib/python3.12/site-packages (from jupyterlab-server<3,>=2.3.0->voila) (2.32.3)\n",
      "Requirement already satisfied: beautifulsoup4 in /opt/anaconda3/envs/fastai/lib/python3.12/site-packages (from nbconvert<8,>=6.4.5->voila) (4.12.3)\n",
      "Requirement already satisfied: bleach!=5.0.0 in /opt/anaconda3/envs/fastai/lib/python3.12/site-packages (from nbconvert<8,>=6.4.5->voila) (6.2.0)\n",
      "Requirement already satisfied: defusedxml in /opt/anaconda3/envs/fastai/lib/python3.12/site-packages (from nbconvert<8,>=6.4.5->voila) (0.7.1)\n",
      "Requirement already satisfied: jupyterlab-pygments in /opt/anaconda3/envs/fastai/lib/python3.12/site-packages (from nbconvert<8,>=6.4.5->voila) (0.1.2)\n",
      "Requirement already satisfied: markupsafe>=2.0 in /opt/anaconda3/envs/fastai/lib/python3.12/site-packages (from nbconvert<8,>=6.4.5->voila) (2.1.3)\n",
      "Requirement already satisfied: mistune<4,>=2.0.3 in /opt/anaconda3/envs/fastai/lib/python3.12/site-packages (from nbconvert<8,>=6.4.5->voila) (2.0.4)\n",
      "Requirement already satisfied: pandocfilters>=1.4.1 in /opt/anaconda3/envs/fastai/lib/python3.12/site-packages (from nbconvert<8,>=6.4.5->voila) (1.5.0)\n",
      "Requirement already satisfied: pygments>=2.4.1 in /opt/anaconda3/envs/fastai/lib/python3.12/site-packages (from nbconvert<8,>=6.4.5->voila) (2.15.1)\n",
      "Requirement already satisfied: tinycss2 in /opt/anaconda3/envs/fastai/lib/python3.12/site-packages (from nbconvert<8,>=6.4.5->voila) (1.2.1)\n",
      "Requirement already satisfied: idna>=2.8 in /opt/anaconda3/envs/fastai/lib/python3.12/site-packages (from anyio>=3.1.0->jupyter-server<3,>=1.18->voila) (3.7)\n",
      "Requirement already satisfied: sniffio>=1.1 in /opt/anaconda3/envs/fastai/lib/python3.12/site-packages (from anyio>=3.1.0->jupyter-server<3,>=1.18->voila) (1.3.0)\n",
      "Requirement already satisfied: argon2-cffi-bindings in /opt/anaconda3/envs/fastai/lib/python3.12/site-packages (from argon2-cffi>=21.1->jupyter-server<3,>=1.18->voila) (21.2.0)\n",
      "Requirement already satisfied: pytz>=2015.7 in /opt/anaconda3/envs/fastai/lib/python3.12/site-packages (from babel>=2.10->jupyterlab-server<3,>=2.3.0->voila) (2024.1)\n",
      "Requirement already satisfied: webencodings in /opt/anaconda3/envs/fastai/lib/python3.12/site-packages (from bleach!=5.0.0->nbconvert<8,>=6.4.5->voila) (0.5.1)\n",
      "Requirement already satisfied: attrs>=22.2.0 in /opt/anaconda3/envs/fastai/lib/python3.12/site-packages (from jsonschema>=4.18.0->jupyterlab-server<3,>=2.3.0->voila) (24.2.0)\n",
      "Requirement already satisfied: jsonschema-specifications>=2023.03.6 in /opt/anaconda3/envs/fastai/lib/python3.12/site-packages (from jsonschema>=4.18.0->jupyterlab-server<3,>=2.3.0->voila) (2023.7.1)\n",
      "Requirement already satisfied: referencing>=0.28.4 in /opt/anaconda3/envs/fastai/lib/python3.12/site-packages (from jsonschema>=4.18.0->jupyterlab-server<3,>=2.3.0->voila) (0.30.2)\n",
      "Requirement already satisfied: rpds-py>=0.7.1 in /opt/anaconda3/envs/fastai/lib/python3.12/site-packages (from jsonschema>=4.18.0->jupyterlab-server<3,>=2.3.0->voila) (0.10.6)\n",
      "Requirement already satisfied: python-json-logger>=2.0.4 in /opt/anaconda3/envs/fastai/lib/python3.12/site-packages (from jupyter-events>=0.9.0->jupyter-server<3,>=1.18->voila) (2.0.7)\n",
      "Requirement already satisfied: pyyaml>=5.3 in /opt/anaconda3/envs/fastai/lib/python3.12/site-packages (from jupyter-events>=0.9.0->jupyter-server<3,>=1.18->voila) (6.0.2)\n",
      "Requirement already satisfied: rfc3339-validator in /opt/anaconda3/envs/fastai/lib/python3.12/site-packages (from jupyter-events>=0.9.0->jupyter-server<3,>=1.18->voila) (0.1.4)\n",
      "Requirement already satisfied: rfc3986-validator>=0.1.1 in /opt/anaconda3/envs/fastai/lib/python3.12/site-packages (from jupyter-events>=0.9.0->jupyter-server<3,>=1.18->voila) (0.1.1)\n",
      "Requirement already satisfied: fastjsonschema>=2.15 in /opt/anaconda3/envs/fastai/lib/python3.12/site-packages (from nbformat>=5.3.0->jupyter-server<3,>=1.18->voila) (2.20.0)\n",
      "Requirement already satisfied: six>=1.5 in /opt/anaconda3/envs/fastai/lib/python3.12/site-packages (from python-dateutil>=2.8.2->jupyter-client<9,>=7.4.4->voila) (1.16.0)\n"
     ]
    },
    {
     "name": "stdout",
     "output_type": "stream",
     "text": [
      "Requirement already satisfied: charset-normalizer<4,>=2 in /opt/anaconda3/envs/fastai/lib/python3.12/site-packages (from requests>=2.31->jupyterlab-server<3,>=2.3.0->voila) (3.3.2)\n",
      "Requirement already satisfied: urllib3<3,>=1.21.1 in /opt/anaconda3/envs/fastai/lib/python3.12/site-packages (from requests>=2.31->jupyterlab-server<3,>=2.3.0->voila) (2.2.3)\n",
      "Requirement already satisfied: certifi>=2017.4.17 in /opt/anaconda3/envs/fastai/lib/python3.12/site-packages (from requests>=2.31->jupyterlab-server<3,>=2.3.0->voila) (2024.8.30)\n",
      "Requirement already satisfied: ptyprocess in /opt/anaconda3/envs/fastai/lib/python3.12/site-packages (from terminado>=0.8.3->jupyter-server<3,>=1.18->voila) (0.7.0)\n",
      "Requirement already satisfied: soupsieve>1.2 in /opt/anaconda3/envs/fastai/lib/python3.12/site-packages (from beautifulsoup4->nbconvert<8,>=6.4.5->voila) (2.5)\n",
      "Requirement already satisfied: fqdn in /opt/anaconda3/envs/fastai/lib/python3.12/site-packages (from jsonschema[format-nongpl]>=4.18.0->jupyter-events>=0.9.0->jupyter-server<3,>=1.18->voila) (1.5.1)\n",
      "Requirement already satisfied: isoduration in /opt/anaconda3/envs/fastai/lib/python3.12/site-packages (from jsonschema[format-nongpl]>=4.18.0->jupyter-events>=0.9.0->jupyter-server<3,>=1.18->voila) (20.11.0)\n",
      "Requirement already satisfied: jsonpointer>1.13 in /opt/anaconda3/envs/fastai/lib/python3.12/site-packages (from jsonschema[format-nongpl]>=4.18.0->jupyter-events>=0.9.0->jupyter-server<3,>=1.18->voila) (3.0.0)\n",
      "Requirement already satisfied: uri-template in /opt/anaconda3/envs/fastai/lib/python3.12/site-packages (from jsonschema[format-nongpl]>=4.18.0->jupyter-events>=0.9.0->jupyter-server<3,>=1.18->voila) (1.3.0)\n",
      "Requirement already satisfied: webcolors>=24.6.0 in /opt/anaconda3/envs/fastai/lib/python3.12/site-packages (from jsonschema[format-nongpl]>=4.18.0->jupyter-events>=0.9.0->jupyter-server<3,>=1.18->voila) (24.11.1)\n",
      "Requirement already satisfied: cffi>=1.0.1 in /opt/anaconda3/envs/fastai/lib/python3.12/site-packages (from argon2-cffi-bindings->argon2-cffi>=21.1->jupyter-server<3,>=1.18->voila) (1.17.1)\n",
      "Requirement already satisfied: pycparser in /opt/anaconda3/envs/fastai/lib/python3.12/site-packages (from cffi>=1.0.1->argon2-cffi-bindings->argon2-cffi>=21.1->jupyter-server<3,>=1.18->voila) (2.21)\n",
      "Requirement already satisfied: arrow>=0.15.0 in /opt/anaconda3/envs/fastai/lib/python3.12/site-packages (from isoduration->jsonschema[format-nongpl]>=4.18.0->jupyter-events>=0.9.0->jupyter-server<3,>=1.18->voila) (1.3.0)\n",
      "Requirement already satisfied: types-python-dateutil>=2.8.10 in /opt/anaconda3/envs/fastai/lib/python3.12/site-packages (from arrow>=0.15.0->isoduration->jsonschema[format-nongpl]>=4.18.0->jupyter-events>=0.9.0->jupyter-server<3,>=1.18->voila) (2.9.0.20241003)\n",
      "Downloading voila-0.5.8-py3-none-any.whl (4.5 MB)\n",
      "\u001b[2K   \u001b[90m━━━━━━━━━━━━━━━━━━━━━━━━━━━━━━━━━━━━━━━━\u001b[0m \u001b[32m4.5/4.5 MB\u001b[0m \u001b[31m20.6 MB/s\u001b[0m eta \u001b[36m0:00:00\u001b[0m \u001b[36m0:00:01\u001b[0m\n",
      "\u001b[?25hDownloading websockets-14.1-cp312-cp312-macosx_11_0_arm64.whl (159 kB)\n",
      "Installing collected packages: websockets, voila\n",
      "Successfully installed voila-0.5.8 websockets-14.1\n",
      "Enabling: voila\n",
      "- Writing config: /opt/anaconda3/envs/fastai/etc/jupyter\n",
      "    - Validating...\n",
      "      voila 0.5.8 \u001b[32mOK\u001b[0m\n"
     ]
    }
   ],
   "source": [
    "!pip install voila\n",
    "!jupyter serverextension enable --sys-prefix voila"
   ]
  },
  {
   "cell_type": "code",
   "execution_count": 2,
   "id": "ae71cd6b",
   "metadata": {},
   "outputs": [],
   "source": [
    "import fastbook\n",
    "fastbook.setup_book()"
   ]
  },
  {
   "cell_type": "code",
   "execution_count": 3,
   "id": "5b123d11",
   "metadata": {},
   "outputs": [],
   "source": [
    "from fastbook import *\n",
    "from fastai.vision.widgets import *"
   ]
  },
  {
   "cell_type": "code",
   "execution_count": 10,
   "id": "bf6cd014",
   "metadata": {},
   "outputs": [
    {
     "data": {
      "application/vnd.jupyter.widget-view+json": {
       "model_id": "9bca3110fcd64ec39d4e320bf4a6bab5",
       "version_major": 2,
       "version_minor": 0
      },
      "text/plain": [
       "VBox(children=(Label(value='Select your bear!'), FileUpload(value={}, description='Upload'), Button(descriptio…"
      ]
     },
     "metadata": {},
     "output_type": "display_data"
    }
   ],
   "source": [
    "out_pl = widgets.Output()\n",
    "out_pl.clear_output()\n",
    "lbl_pred = widgets.Label()\n",
    "btn_run = widgets.Button(description='Classify')\n",
    "def on_click_classify(change):\n",
    "    img = PILImage.create(btn_upload.data[-1])\n",
    "    out_pl.clear_output()\n",
    "    with out_pl: display(img.to_thumb(128,128))\n",
    "    pred,pred_idx,probs = learn_inf.predict(img)\n",
    "    lbl_pred.value = f'Prediction: {pred}; Probability: {probs[pred_idx]:.04f}'\n",
    "\n",
    "btn_run.on_click(on_click_classify)\n",
    "btn_upload = widgets.FileUpload()\n"
   ]
  },
  {
   "cell_type": "code",
   "execution_count": 11,
   "id": "a484dde7",
   "metadata": {},
   "outputs": [
    {
     "data": {
      "application/vnd.jupyter.widget-view+json": {
       "model_id": "4ca45783977642d4b1fdbf5b264c1b22",
       "version_major": 2,
       "version_minor": 0
      },
      "text/plain": [
       "VBox(children=(Label(value='Select your bear!'), FileUpload(value={}, description='Upload'), Button(descriptio…"
      ]
     },
     "metadata": {},
     "output_type": "display_data"
    }
   ],
   "source": [
    "VBox([widgets.Label('Select your bear!'), \n",
    "      btn_upload, btn_run, out_pl, lbl_pred])"
   ]
  },
  {
   "cell_type": "code",
   "execution_count": null,
   "id": "b7b3a303",
   "metadata": {},
   "outputs": [],
   "source": []
  },
  {
   "cell_type": "code",
   "execution_count": null,
   "id": "eb65fd93",
   "metadata": {},
   "outputs": [],
   "source": []
  }
 ],
 "metadata": {
  "kernelspec": {
   "display_name": "Python 3 (ipykernel)",
   "language": "python",
   "name": "python3"
  },
  "language_info": {
   "codemirror_mode": {
    "name": "ipython",
    "version": 3
   },
   "file_extension": ".py",
   "mimetype": "text/x-python",
   "name": "python",
   "nbconvert_exporter": "python",
   "pygments_lexer": "ipython3",
   "version": "3.12.7"
  },
  "toc": {
   "base_numbering": 1,
   "nav_menu": {},
   "number_sections": true,
   "sideBar": true,
   "skip_h1_title": false,
   "title_cell": "Table of Contents",
   "title_sidebar": "Contents",
   "toc_cell": false,
   "toc_position": {},
   "toc_section_display": true,
   "toc_window_display": false
  }
 },
 "nbformat": 4,
 "nbformat_minor": 5
}
